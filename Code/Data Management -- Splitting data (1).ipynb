{
 "cells": [
  {
   "cell_type": "markdown",
   "id": "laden-reality",
   "metadata": {},
   "source": [
    "Code to sort out train/test data."
   ]
  },
  {
   "cell_type": "code",
   "execution_count": 13,
   "id": "unnecessary-eleven",
   "metadata": {},
   "outputs": [],
   "source": [
    "import splitfolders\n",
    "import os"
   ]
  },
  {
   "cell_type": "code",
   "execution_count": 16,
   "id": "filled-california",
   "metadata": {},
   "outputs": [],
   "source": [
    "os.makedirs('output')\n",
    "os.makedirs('output/train')\n",
    "os.makedirs('output/val')"
   ]
  },
  {
   "cell_type": "code",
   "execution_count": 17,
   "id": "bound-gather",
   "metadata": {},
   "outputs": [],
   "source": [
    "data = '/Users/mehikapatel/Plant_NN_Project/FinalPlantDATA'"
   ]
  },
  {
   "cell_type": "code",
   "execution_count": 18,
   "id": "express-lemon",
   "metadata": {},
   "outputs": [
    {
     "name": "stderr",
     "output_type": "stream",
     "text": [
      "Copying files: 0 files [00:00, ? files/s]\n"
     ]
    }
   ],
   "source": [
    "X_train_confirmed, X_test_confirmed, y_train_confirmed, y_test_confirmed = train_test_split(x, y, test_size=0.3, shuffle=False) \n",
    "\n",
    "\n",
    "\n"
   ]
  },
  {
   "cell_type": "code",
   "execution_count": null,
   "id": "applied-tutorial",
   "metadata": {},
   "outputs": [],
   "source": []
  }
 ],
 "metadata": {
  "kernelspec": {
   "display_name": "Python 3",
   "language": "python",
   "name": "python3"
  },
  "language_info": {
   "codemirror_mode": {
    "name": "ipython",
    "version": 3
   },
   "file_extension": ".py",
   "mimetype": "text/x-python",
   "name": "python",
   "nbconvert_exporter": "python",
   "pygments_lexer": "ipython3",
   "version": "3.8.8"
  }
 },
 "nbformat": 4,
 "nbformat_minor": 5
}
