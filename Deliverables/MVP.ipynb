{
 "cells": [
  {
   "cell_type": "markdown",
   "id": "curious-characterization",
   "metadata": {},
   "source": [
    "## Plant Classification MVP\n",
    "\n",
    "This project involves using neural networks and transfer learning to classify leaves by plant type. There are 11 classes total. \n",
    "\n",
    "This notebook outlines initial modeling. A simple baseline neural network will be built."
   ]
  },
  {
   "cell_type": "code",
   "execution_count": 16,
   "id": "genetic-maria",
   "metadata": {},
   "outputs": [
    {
     "name": "stdout",
     "output_type": "stream",
     "text": [
      "Downloading data from https://storage.googleapis.com/tensorflow/keras-applications/vgg16/vgg16_weights_tf_dim_ordering_tf_kernels_notop.h5\n",
      "58892288/58889256 [==============================] - 4s 0us/step\n",
      "58900480/58889256 [==============================] - 4s 0us/step\n"
     ]
    }
   ],
   "source": [
    "#transfer learning model\n",
    "from tensorflow import keras\n",
    "from keras.applications.vgg16 import VGG16\n",
    "\n",
    "conv_base = VGG16(weights='imagenet',\n",
    "                  include_top=False)"
   ]
  },
  {
   "cell_type": "code",
   "execution_count": 83,
   "id": "adult-istanbul",
   "metadata": {},
   "outputs": [],
   "source": [
    "import os\n",
    "import numpy as np\n",
    "from keras.preprocessing.image import ImageDataGenerator\n",
    "\n",
    "base_dir = '/Users/mehikapatel/Plant_NN_Project/data'\n",
    "\n",
    "train_dir = os.path.join(base_dir, 'train')\n",
    "validation_dir = os.path.join(base_dir, 'validation')\n",
    "test_dir = os.path.join(base_dir, 'test')\n",
    "\n",
    "datagen = ImageDataGenerator(rescale=1./255)\n",
    "batch_size = 20\n",
    "\n",
    "def extract_features(directory, sample_count):\n",
    "    features = np.zeros(shape=(sample_count, 4, 4, 512))\n",
    "    labels = np.zeros(shape=(sample_count,11))\n",
    "    generator = datagen.flow_from_directory(\n",
    "        directory,\n",
    "        target_size=(150, 150),\n",
    "        batch_size=batch_size,\n",
    "        class_mode='categorical')\n",
    "    i = 0\n",
    "    for inputs_batch, labels_batch in generator:\n",
    "        features_batch = conv_base.predict(inputs_batch)\n",
    "        features[i * batch_size : (i + 1) * batch_size] = features_batch\n",
    "        labels[i * batch_size : (i + 1) * batch_size] = labels_batch\n",
    "        i += 1\n",
    "        if i * batch_size >= sample_count:\n",
    "            # Note that since generators yield data indefinitely in a loop,\n",
    "            # we must `break` after every image has been seen once.\n",
    "            break\n",
    "    return features, labels"
   ]
  },
  {
   "cell_type": "code",
   "execution_count": 84,
   "id": "light-kingdom",
   "metadata": {},
   "outputs": [
    {
     "name": "stdout",
     "output_type": "stream",
     "text": [
      "Found 1592 images belonging to 11 classes.\n"
     ]
    }
   ],
   "source": [
    "train_features, train_labels = extract_features(train_dir, 1592)"
   ]
  },
  {
   "cell_type": "code",
   "execution_count": 85,
   "id": "portable-vault",
   "metadata": {},
   "outputs": [
    {
     "name": "stdout",
     "output_type": "stream",
     "text": [
      "Found 341 images belonging to 11 classes.\n"
     ]
    }
   ],
   "source": [
    "validation_features, validation_labels = extract_features(validation_dir, 341) "
   ]
  },
  {
   "cell_type": "code",
   "execution_count": 86,
   "id": "national-telling",
   "metadata": {},
   "outputs": [
    {
     "name": "stdout",
     "output_type": "stream",
     "text": [
      "Found 344 images belonging to 11 classes.\n"
     ]
    }
   ],
   "source": [
    "test_features, test_labels = extract_features(test_dir, 344) "
   ]
  },
  {
   "cell_type": "code",
   "execution_count": 87,
   "id": "mexican-force",
   "metadata": {},
   "outputs": [],
   "source": [
    "#flatten images:\n",
    "\n",
    "train_features = np.reshape(train_features, (1592, 4 * 4 * 512))\n",
    "validation_features = np.reshape(validation_features, (341, 4 * 4 * 512))\n",
    "test_features = np.reshape(test_features, (344, 4 * 4 * 512))"
   ]
  },
  {
   "cell_type": "code",
   "execution_count": 89,
   "id": "norman-directive",
   "metadata": {},
   "outputs": [
    {
     "name": "stdout",
     "output_type": "stream",
     "text": [
      "Epoch 1/30\n",
      "25/25 [==============================] - 2s 31ms/step - loss: 2.7261 - acc: 0.0942 - val_loss: 2.1931 - val_acc: 0.3372\n",
      "Epoch 2/30\n",
      "25/25 [==============================] - 0s 18ms/step - loss: 2.3814 - acc: 0.1451 - val_loss: 2.0904 - val_acc: 0.4487\n",
      "Epoch 3/30\n",
      "25/25 [==============================] - 0s 17ms/step - loss: 2.2126 - acc: 0.2114 - val_loss: 1.9696 - val_acc: 0.5044\n",
      "Epoch 4/30\n",
      "25/25 [==============================] - 0s 17ms/step - loss: 2.1025 - acc: 0.2609 - val_loss: 1.8558 - val_acc: 0.5484\n",
      "Epoch 5/30\n",
      "25/25 [==============================] - 0s 17ms/step - loss: 2.0139 - acc: 0.3265 - val_loss: 1.7662 - val_acc: 0.5806\n",
      "Epoch 6/30\n",
      "25/25 [==============================] - 0s 18ms/step - loss: 1.9387 - acc: 0.3310 - val_loss: 1.6894 - val_acc: 0.5806\n",
      "Epoch 7/30\n",
      "25/25 [==============================] - 0s 18ms/step - loss: 1.8871 - acc: 0.3770 - val_loss: 1.6092 - val_acc: 0.6158\n",
      "Epoch 8/30\n",
      "25/25 [==============================] - 0s 18ms/step - loss: 1.8053 - acc: 0.4152 - val_loss: 1.5513 - val_acc: 0.6305\n",
      "Epoch 9/30\n",
      "25/25 [==============================] - 0s 18ms/step - loss: 1.7321 - acc: 0.4510 - val_loss: 1.4728 - val_acc: 0.6393\n",
      "Epoch 10/30\n",
      "25/25 [==============================] - 0s 18ms/step - loss: 1.6815 - acc: 0.4585 - val_loss: 1.4242 - val_acc: 0.6540\n",
      "Epoch 11/30\n",
      "25/25 [==============================] - 0s 18ms/step - loss: 1.6396 - acc: 0.4587 - val_loss: 1.3676 - val_acc: 0.6657\n",
      "Epoch 12/30\n",
      "25/25 [==============================] - 0s 18ms/step - loss: 1.5721 - acc: 0.5175 - val_loss: 1.3216 - val_acc: 0.6510\n",
      "Epoch 13/30\n",
      "25/25 [==============================] - 0s 18ms/step - loss: 1.5928 - acc: 0.5108 - val_loss: 1.2871 - val_acc: 0.6804\n",
      "Epoch 14/30\n",
      "25/25 [==============================] - 0s 18ms/step - loss: 1.5036 - acc: 0.5339 - val_loss: 1.2365 - val_acc: 0.7097\n",
      "Epoch 15/30\n",
      "25/25 [==============================] - 0s 18ms/step - loss: 1.4926 - acc: 0.5272 - val_loss: 1.2058 - val_acc: 0.7126\n",
      "Epoch 16/30\n",
      "25/25 [==============================] - 0s 18ms/step - loss: 1.4753 - acc: 0.5371 - val_loss: 1.1685 - val_acc: 0.7067\n",
      "Epoch 17/30\n",
      "25/25 [==============================] - 0s 18ms/step - loss: 1.4253 - acc: 0.5352 - val_loss: 1.1413 - val_acc: 0.7126\n",
      "Epoch 18/30\n",
      "25/25 [==============================] - 0s 18ms/step - loss: 1.4312 - acc: 0.5397 - val_loss: 1.1133 - val_acc: 0.7243\n",
      "Epoch 19/30\n",
      "25/25 [==============================] - 0s 19ms/step - loss: 1.3501 - acc: 0.5886 - val_loss: 1.0866 - val_acc: 0.7390\n",
      "Epoch 20/30\n",
      "25/25 [==============================] - 0s 18ms/step - loss: 1.3371 - acc: 0.5760 - val_loss: 1.0514 - val_acc: 0.7507\n",
      "Epoch 21/30\n",
      "25/25 [==============================] - 0s 18ms/step - loss: 1.3077 - acc: 0.5766 - val_loss: 1.0213 - val_acc: 0.7478\n",
      "Epoch 22/30\n",
      "25/25 [==============================] - 0s 18ms/step - loss: 1.2930 - acc: 0.5976 - val_loss: 0.9969 - val_acc: 0.7537\n",
      "Epoch 23/30\n",
      "25/25 [==============================] - 0s 18ms/step - loss: 1.2389 - acc: 0.6014 - val_loss: 0.9686 - val_acc: 0.7595\n",
      "Epoch 24/30\n",
      "25/25 [==============================] - 0s 18ms/step - loss: 1.2228 - acc: 0.6148 - val_loss: 0.9547 - val_acc: 0.7595\n",
      "Epoch 25/30\n",
      "25/25 [==============================] - 0s 18ms/step - loss: 1.2562 - acc: 0.5981 - val_loss: 0.9376 - val_acc: 0.7566\n",
      "Epoch 26/30\n",
      "25/25 [==============================] - 0s 19ms/step - loss: 1.2051 - acc: 0.6051 - val_loss: 0.9232 - val_acc: 0.7713\n",
      "Epoch 27/30\n",
      "25/25 [==============================] - 0s 18ms/step - loss: 1.2050 - acc: 0.6053 - val_loss: 0.9012 - val_acc: 0.7771\n",
      "Epoch 28/30\n",
      "25/25 [==============================] - 0s 20ms/step - loss: 1.1011 - acc: 0.6572 - val_loss: 0.8898 - val_acc: 0.7654\n",
      "Epoch 29/30\n",
      "25/25 [==============================] - 1s 20ms/step - loss: 1.1824 - acc: 0.6063 - val_loss: 0.8706 - val_acc: 0.7830\n",
      "Epoch 30/30\n",
      "25/25 [==============================] - 0s 18ms/step - loss: 1.0787 - acc: 0.6794 - val_loss: 0.8440 - val_acc: 0.7859\n"
     ]
    },
    {
     "data": {
      "text/plain": [
       "<keras.callbacks.History at 0x7fefce65f7f0>"
      ]
     },
     "execution_count": 89,
     "metadata": {},
     "output_type": "execute_result"
    }
   ],
   "source": [
    "# train on recorded data/labels:\n",
    "from keras import models\n",
    "from keras import layers\n",
    "from keras import optimizers\n",
    "\n",
    "model = models.Sequential()\n",
    "model.add(layers.Dense(256, activation='relu', input_dim=4 * 4 * 512))\n",
    "model.add(layers.Dropout(0.5))\n",
    "model.add(layers.Dense(100, activation='relu', input_dim=4 * 4 * 512))\n",
    "model.add(layers.Dropout(0.5))\n",
    "model.add(layers.Dense(11, activation='softmax'))\n",
    "\n",
    "model.compile(optimizer=optimizers.RMSprop(lr=2e-5),\n",
    "              loss='categorical_crossentropy',\n",
    "              metrics=['acc'])\n",
    "\n",
    "model.fit(train_features, train_labels,\n",
    "                    epochs=30,\n",
    "                    batch_size=64,\n",
    "                    validation_data=(validation_features, validation_labels))"
   ]
  },
  {
   "cell_type": "code",
   "execution_count": 99,
   "id": "lucky-default",
   "metadata": {},
   "outputs": [
    {
     "name": "stdout",
     "output_type": "stream",
     "text": [
      "Model: \"sequential_11\"\n",
      "_________________________________________________________________\n",
      "Layer (type)                 Output Shape              Param #   \n",
      "=================================================================\n",
      "dense_25 (Dense)             (None, 256)               2097408   \n",
      "_________________________________________________________________\n",
      "dropout_14 (Dropout)         (None, 256)               0         \n",
      "_________________________________________________________________\n",
      "dense_26 (Dense)             (None, 100)               25700     \n",
      "_________________________________________________________________\n",
      "dropout_15 (Dropout)         (None, 100)               0         \n",
      "_________________________________________________________________\n",
      "dense_27 (Dense)             (None, 11)                1111      \n",
      "=================================================================\n",
      "Total params: 2,124,219\n",
      "Trainable params: 2,124,219\n",
      "Non-trainable params: 0\n",
      "_________________________________________________________________\n"
     ]
    }
   ],
   "source": [
    "model.summary()"
   ]
  },
  {
   "cell_type": "code",
   "execution_count": 100,
   "id": "competitive-sauce",
   "metadata": {},
   "outputs": [],
   "source": [
    "from sklearn import metrics\n",
    "y_pred = model.predict(test_features)\n",
    "def benchmark(model):\n",
    "    y_pred = model.predict(test_features)\n",
    "\n",
    "    print(f\"mae: {metrics.mean_absolute_error(test_labels, y_pred):,.2f}\")\n",
    "    print(f\"mse: {metrics.mean_squared_error(test_labels, y_pred):,.2f}\")\n"
   ]
  },
  {
   "cell_type": "code",
   "execution_count": 104,
   "id": "charged-railway",
   "metadata": {
    "scrolled": true
   },
   "outputs": [
    {
     "name": "stdout",
     "output_type": "stream",
     "text": [
      "11/11 [==============================] - 0s 5ms/step - loss: 0.8440 - acc: 0.7859\n",
      "\n",
      "\n",
      "Validation Accuracy: 0.7859237790107727\n"
     ]
    }
   ],
   "source": [
    "val_loss, val_acc = model.evaluate(validation_features, validation_labels)\n",
    "print(f'\\n\\nValidation Accuracy: {val_acc}')"
   ]
  },
  {
   "cell_type": "markdown",
   "id": "contrary-petite",
   "metadata": {},
   "source": [
    "We have a final accuracy of .785 on validation data."
   ]
  },
  {
   "cell_type": "code",
   "execution_count": 102,
   "id": "fitting-dinner",
   "metadata": {},
   "outputs": [
    {
     "data": {
      "image/png": "[encoded data removed]",
      "text/plain": [
       "<Figure size 432x288 with 1 Axes>"
      ]
     },
     "metadata": {
      "needs_background": "light"
     },
     "output_type": "display_data"
    },
    {
     "data": {
      "image/png": "[encoded data removed]",
      "text/plain": [
       "<Figure size 432x288 with 1 Axes>"
      ]
     },
     "metadata": {
      "needs_background": "light"
     },
     "output_type": "display_data"
    }
   ],
   "source": [
    "# #loss and accuracy curves during training;\n",
    "# import matplotlib.pyplot as plt\n",
    "\n",
    "# acc = history.history['acc']\n",
    "# val_acc = history.history['val_acc']\n",
    "# loss = history.history['loss']\n",
    "# val_loss = history.history['val_loss']\n",
    "\n",
    "# epochs = range(len(acc))\n",
    "\n",
    "# plt.plot(epochs, acc, 'bo', label='Training acc')\n",
    "# plt.plot(epochs, val_acc, 'b', label='Validation acc')\n",
    "# plt.title('Training and validation accuracy')\n",
    "# plt.legend()\n",
    "\n",
    "# plt.figure()\n",
    "\n",
    "# plt.plot(epochs, loss, 'bo', label='Training loss')\n",
    "# plt.plot(epochs, val_loss, 'b', label='Validation loss')\n",
    "# plt.title('Training and validation loss')\n",
    "# plt.legend()\n",
    "\n",
    "# plt.show()"
   ]
  }
 ],
 "metadata": {
  "kernelspec": {
   "display_name": "Python 3",
   "language": "python",
   "name": "python3"
  },
  "language_info": {
   "codemirror_mode": {
    "name": "ipython",
    "version": 3
   },
   "file_extension": ".py",
   "mimetype": "text/x-python",
   "name": "python",
   "nbconvert_exporter": "python",
   "pygments_lexer": "ipython3",
   "version": "3.8.8"
  }
 },
 "nbformat": 4,
 "nbformat_minor": 5
}
