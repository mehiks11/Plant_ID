{
 "cells": [
  {
   "cell_type": "markdown",
   "id": "tracked-trailer",
   "metadata": {},
   "source": [
    "## Plant Classification MVP\n",
    "\n",
    "This project involves using neural networks and transfer learning to classify leaves by plant type. There are 11 classes total. \n",
    "\n",
    "This notebook outlines initial modeling. Specifically, a simple logistic classification model will be built on the image data."
   ]
  },
  {
   "cell_type": "code",
   "execution_count": null,
   "id": "saving-motor",
   "metadata": {},
   "outputs": [],
   "source": []
  }
 ],
 "metadata": {
  "kernelspec": {
   "display_name": "Python 3",
   "language": "python",
   "name": "python3"
  },
  "language_info": {
   "codemirror_mode": {
    "name": "ipython",
    "version": 3
   },
   "file_extension": ".py",
   "mimetype": "text/x-python",
   "name": "python",
   "nbconvert_exporter": "python",
   "pygments_lexer": "ipython3",
   "version": "3.8.8"
  }
 },
 "nbformat": 4,
 "nbformat_minor": 5
}
